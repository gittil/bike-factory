{
 "cells": [
  {
   "cell_type": "markdown",
   "id": "ac4bf43f-7790-4d55-a139-4d522ff7393b",
   "metadata": {},
   "source": [
    "## Analisando e tratando os dados do arquivp Person.Person.csv que estão na pasta RAW\n",
    "### Ao final desse notebook os dados serão carregados na pasta REFINED em formato parquet"
   ]
  },
  {
   "cell_type": "code",
   "execution_count": 1,
   "id": "5ab1e43e-6555-4c39-8019-f962f522d46b",
   "metadata": {},
   "outputs": [],
   "source": [
    "# importando as bibliotecas necessárias\n",
    "import pandas as pd\n",
    "import numpy as np"
   ]
  },
  {
   "cell_type": "code",
   "execution_count": 2,
   "id": "02631ec7-8e9e-4cbd-8313-86f21b75eda2",
   "metadata": {},
   "outputs": [],
   "source": [
    "# criando a variavel com o caminho do arquivo que iremos carregar\n",
    "path_person = \"gs://bike-factory-datalake/01.RAW/Person.Person.csv\""
   ]
  },
  {
   "cell_type": "code",
   "execution_count": 3,
   "id": "f68d9099-ed98-4bae-9205-bcd917d19029",
   "metadata": {},
   "outputs": [],
   "source": [
    "# carregando o arquivo CSV\n",
    "person = pd.read_csv(path_person,sep=';')"
   ]
  },
  {
   "cell_type": "code",
   "execution_count": 4,
   "id": "1c8c56ab-c03e-49cb-b0b7-8795ae31cd6c",
   "metadata": {},
   "outputs": [],
   "source": [
    "# criando o DF pandas\n",
    "df_person = pd.DataFrame(person)"
   ]
  },
  {
   "cell_type": "code",
   "execution_count": 5,
   "id": "03fc5eee-6bf9-4207-9b69-478d75543a18",
   "metadata": {},
   "outputs": [
    {
     "data": {
      "text/plain": [
       "BusinessEntityID          int64\n",
       "PersonType               object\n",
       "NameStyle                 int64\n",
       "Title                    object\n",
       "FirstName                object\n",
       "MiddleName               object\n",
       "LastName                 object\n",
       "Suffix                   object\n",
       "EmailPromotion            int64\n",
       "AdditionalContactInfo    object\n",
       "Demographics             object\n",
       "rowguid                  object\n",
       "ModifiedDate             object\n",
       "dtype: object"
      ]
     },
     "execution_count": 5,
     "metadata": {},
     "output_type": "execute_result"
    }
   ],
   "source": [
    "df_person.dtypes"
   ]
  },
  {
   "cell_type": "code",
   "execution_count": 6,
   "id": "fee21aaf-008a-467f-bf31-58fbbcd57413",
   "metadata": {},
   "outputs": [
    {
     "data": {
      "text/html": [
       "<div>\n",
       "<style scoped>\n",
       "    .dataframe tbody tr th:only-of-type {\n",
       "        vertical-align: middle;\n",
       "    }\n",
       "\n",
       "    .dataframe tbody tr th {\n",
       "        vertical-align: top;\n",
       "    }\n",
       "\n",
       "    .dataframe thead th {\n",
       "        text-align: right;\n",
       "    }\n",
       "</style>\n",
       "<table border=\"1\" class=\"dataframe\">\n",
       "  <thead>\n",
       "    <tr style=\"text-align: right;\">\n",
       "      <th></th>\n",
       "      <th>BusinessEntityID</th>\n",
       "      <th>PersonType</th>\n",
       "      <th>NameStyle</th>\n",
       "      <th>Title</th>\n",
       "      <th>FirstName</th>\n",
       "      <th>MiddleName</th>\n",
       "      <th>LastName</th>\n",
       "      <th>Suffix</th>\n",
       "      <th>EmailPromotion</th>\n",
       "      <th>AdditionalContactInfo</th>\n",
       "      <th>Demographics</th>\n",
       "      <th>rowguid</th>\n",
       "      <th>ModifiedDate</th>\n",
       "    </tr>\n",
       "  </thead>\n",
       "  <tbody>\n",
       "    <tr>\n",
       "      <th>0</th>\n",
       "      <td>1</td>\n",
       "      <td>EM</td>\n",
       "      <td>0</td>\n",
       "      <td>NaN</td>\n",
       "      <td>Ken</td>\n",
       "      <td>J</td>\n",
       "      <td>Sánchez</td>\n",
       "      <td>NaN</td>\n",
       "      <td>0</td>\n",
       "      <td>NaN</td>\n",
       "      <td>&lt;IndividualSurvey xmlns=\"http://schemas.micros...</td>\n",
       "      <td>92C4279F-1207-48A3-8448-4636514EB7E2</td>\n",
       "      <td>2009-01-07 00:00:00.000</td>\n",
       "    </tr>\n",
       "    <tr>\n",
       "      <th>1</th>\n",
       "      <td>2</td>\n",
       "      <td>EM</td>\n",
       "      <td>0</td>\n",
       "      <td>NaN</td>\n",
       "      <td>Terri</td>\n",
       "      <td>Lee</td>\n",
       "      <td>Duffy</td>\n",
       "      <td>NaN</td>\n",
       "      <td>1</td>\n",
       "      <td>NaN</td>\n",
       "      <td>&lt;IndividualSurvey xmlns=\"http://schemas.micros...</td>\n",
       "      <td>D8763459-8AA8-47CC-AFF7-C9079AF79033</td>\n",
       "      <td>2008-01-24 00:00:00.000</td>\n",
       "    </tr>\n",
       "    <tr>\n",
       "      <th>2</th>\n",
       "      <td>3</td>\n",
       "      <td>EM</td>\n",
       "      <td>0</td>\n",
       "      <td>NaN</td>\n",
       "      <td>Roberto</td>\n",
       "      <td>NaN</td>\n",
       "      <td>Tamburello</td>\n",
       "      <td>NaN</td>\n",
       "      <td>0</td>\n",
       "      <td>NaN</td>\n",
       "      <td>&lt;IndividualSurvey xmlns=\"http://schemas.micros...</td>\n",
       "      <td>E1A2555E-0828-434B-A33B-6F38136A37DE</td>\n",
       "      <td>2007-11-04 00:00:00.000</td>\n",
       "    </tr>\n",
       "    <tr>\n",
       "      <th>3</th>\n",
       "      <td>4</td>\n",
       "      <td>EM</td>\n",
       "      <td>0</td>\n",
       "      <td>NaN</td>\n",
       "      <td>Rob</td>\n",
       "      <td>NaN</td>\n",
       "      <td>Walters</td>\n",
       "      <td>NaN</td>\n",
       "      <td>0</td>\n",
       "      <td>NaN</td>\n",
       "      <td>&lt;IndividualSurvey xmlns=\"http://schemas.micros...</td>\n",
       "      <td>F2D7CE06-38B3-4357-805B-F4B6B71C01FF</td>\n",
       "      <td>2007-11-28 00:00:00.000</td>\n",
       "    </tr>\n",
       "    <tr>\n",
       "      <th>4</th>\n",
       "      <td>5</td>\n",
       "      <td>EM</td>\n",
       "      <td>0</td>\n",
       "      <td>Ms.</td>\n",
       "      <td>Gail</td>\n",
       "      <td>A</td>\n",
       "      <td>Erickson</td>\n",
       "      <td>NaN</td>\n",
       "      <td>0</td>\n",
       "      <td>NaN</td>\n",
       "      <td>&lt;IndividualSurvey xmlns=\"http://schemas.micros...</td>\n",
       "      <td>F3A3F6B4-AE3B-430C-A754-9F2231BA6FEF</td>\n",
       "      <td>2007-12-30 00:00:00.000</td>\n",
       "    </tr>\n",
       "  </tbody>\n",
       "</table>\n",
       "</div>"
      ],
      "text/plain": [
       "   BusinessEntityID PersonType  NameStyle Title FirstName MiddleName  \\\n",
       "0                 1         EM          0   NaN       Ken          J   \n",
       "1                 2         EM          0   NaN     Terri        Lee   \n",
       "2                 3         EM          0   NaN   Roberto        NaN   \n",
       "3                 4         EM          0   NaN       Rob        NaN   \n",
       "4                 5         EM          0   Ms.      Gail          A   \n",
       "\n",
       "     LastName Suffix  EmailPromotion AdditionalContactInfo  \\\n",
       "0     Sánchez    NaN               0                   NaN   \n",
       "1       Duffy    NaN               1                   NaN   \n",
       "2  Tamburello    NaN               0                   NaN   \n",
       "3     Walters    NaN               0                   NaN   \n",
       "4    Erickson    NaN               0                   NaN   \n",
       "\n",
       "                                        Demographics  \\\n",
       "0  <IndividualSurvey xmlns=\"http://schemas.micros...   \n",
       "1  <IndividualSurvey xmlns=\"http://schemas.micros...   \n",
       "2  <IndividualSurvey xmlns=\"http://schemas.micros...   \n",
       "3  <IndividualSurvey xmlns=\"http://schemas.micros...   \n",
       "4  <IndividualSurvey xmlns=\"http://schemas.micros...   \n",
       "\n",
       "                                rowguid             ModifiedDate  \n",
       "0  92C4279F-1207-48A3-8448-4636514EB7E2  2009-01-07 00:00:00.000  \n",
       "1  D8763459-8AA8-47CC-AFF7-C9079AF79033  2008-01-24 00:00:00.000  \n",
       "2  E1A2555E-0828-434B-A33B-6F38136A37DE  2007-11-04 00:00:00.000  \n",
       "3  F2D7CE06-38B3-4357-805B-F4B6B71C01FF  2007-11-28 00:00:00.000  \n",
       "4  F3A3F6B4-AE3B-430C-A754-9F2231BA6FEF  2007-12-30 00:00:00.000  "
      ]
     },
     "execution_count": 6,
     "metadata": {},
     "output_type": "execute_result"
    }
   ],
   "source": [
    "# verificando as primeiras linhas do DF\n",
    "df_person.head()"
   ]
  },
  {
   "cell_type": "code",
   "execution_count": 7,
   "id": "9971292f-efba-49f6-a859-574fd0067628",
   "metadata": {},
   "outputs": [
    {
     "data": {
      "text/plain": [
       "(19972, 13)"
      ]
     },
     "execution_count": 7,
     "metadata": {},
     "output_type": "execute_result"
    }
   ],
   "source": [
    "# Coletando informações básicas do DF\n",
    "# A saída desse comando será a quantidade de linhas e colunas (linhas, colunas)\n",
    "df_person.shape"
   ]
  },
  {
   "cell_type": "code",
   "execution_count": 8,
   "id": "8b43ace3-f00a-424b-ada4-3fe5d2d34509",
   "metadata": {},
   "outputs": [
    {
     "data": {
      "text/plain": [
       "RangeIndex(start=0, stop=19972, step=1)"
      ]
     },
     "execution_count": 8,
     "metadata": {},
     "output_type": "execute_result"
    }
   ],
   "source": [
    "# verificando o index do arquivo\n",
    "df_person.index"
   ]
  },
  {
   "cell_type": "code",
   "execution_count": 9,
   "id": "286bf3b0-6586-4cfd-8094-e9fcb74bb40b",
   "metadata": {},
   "outputs": [
    {
     "data": {
      "text/plain": [
       "Index(['BusinessEntityID', 'PersonType', 'NameStyle', 'Title', 'FirstName',\n",
       "       'MiddleName', 'LastName', 'Suffix', 'EmailPromotion',\n",
       "       'AdditionalContactInfo', 'Demographics', 'rowguid', 'ModifiedDate'],\n",
       "      dtype='object')"
      ]
     },
     "execution_count": 9,
     "metadata": {},
     "output_type": "execute_result"
    }
   ],
   "source": [
    "# Verificando as colunas do DF\n",
    "df_person.columns"
   ]
  },
  {
   "cell_type": "code",
   "execution_count": 10,
   "id": "631e8589-1141-410d-9c24-4c2ed20358f2",
   "metadata": {},
   "outputs": [
    {
     "data": {
      "text/plain": [
       "BusinessEntityID         19972\n",
       "PersonType               19972\n",
       "NameStyle                19972\n",
       "Title                     1009\n",
       "FirstName                19972\n",
       "MiddleName               11473\n",
       "LastName                 19972\n",
       "Suffix                      53\n",
       "EmailPromotion           19972\n",
       "AdditionalContactInfo       10\n",
       "Demographics             19972\n",
       "rowguid                  19972\n",
       "ModifiedDate             19972\n",
       "dtype: int64"
      ]
     },
     "execution_count": 10,
     "metadata": {},
     "output_type": "execute_result"
    }
   ],
   "source": [
    "# Contagem de dados não nulos\n",
    "df_person.count()"
   ]
  },
  {
   "cell_type": "code",
   "execution_count": 11,
   "id": "4206706f-fbbe-49ee-8ce7-de56e891f5a6",
   "metadata": {},
   "outputs": [
    {
     "data": {
      "text/plain": [
       "BusinessEntityID             0\n",
       "PersonType                   0\n",
       "NameStyle                    0\n",
       "Title                    18963\n",
       "FirstName                    0\n",
       "MiddleName                8499\n",
       "LastName                     0\n",
       "Suffix                   19919\n",
       "EmailPromotion               0\n",
       "AdditionalContactInfo    19962\n",
       "Demographics                 0\n",
       "rowguid                      0\n",
       "ModifiedDate                 0\n",
       "dtype: int64"
      ]
     },
     "execution_count": 11,
     "metadata": {},
     "output_type": "execute_result"
    }
   ],
   "source": [
    "# Identificando a quantidade de dados nulos em cada coluna\n",
    "df_person.isnull().sum()"
   ]
  },
  {
   "cell_type": "markdown",
   "id": "a989a15a-cd6e-4dce-853b-13888bd683ba",
   "metadata": {},
   "source": [
    "Até aqui sabemos que a coluna Tittle possui 18.963 campos nulos, MiddleName 8.499, Suffix 19.919 e AdditionalContactInfo 19.962.\n",
    "\n",
    "Temos que avaliar se essas colunas com dados faltantes são essenciais ou não para nossa análise, se não forem essenciais podemos dropar as linhas com dados nulos ou as colunas e se forem essencias, devemos pensar em uma maneira de substituir esses valores.\n",
    "\n",
    "Por exemplo, a coluna Title não faz diferença na nossa análise, porém sem droparmos as linhas com dados nulos, ficarão apenas 1.009 registros e não queremos isso, então nesse caso droparemos a coluna para não levar os dados nulos para a próxima camada do nosso Lake."
   ]
  },
  {
   "cell_type": "code",
   "execution_count": 12,
   "id": "e9b3ec3b-bb45-4229-83d6-4248258164da",
   "metadata": {},
   "outputs": [],
   "source": [
    "# Dropando ca coluna 'Title'\n",
    "df_person = df_person.drop('Title',axis=1)"
   ]
  },
  {
   "cell_type": "code",
   "execution_count": 13,
   "id": "b2cc3bd3-a3df-4fed-b5c7-49ecd8759373",
   "metadata": {},
   "outputs": [
    {
     "data": {
      "text/plain": [
       "BusinessEntityID             0\n",
       "PersonType                   0\n",
       "NameStyle                    0\n",
       "FirstName                    0\n",
       "MiddleName                8499\n",
       "LastName                     0\n",
       "Suffix                   19919\n",
       "EmailPromotion               0\n",
       "AdditionalContactInfo    19962\n",
       "Demographics                 0\n",
       "rowguid                      0\n",
       "ModifiedDate                 0\n",
       "dtype: int64"
      ]
     },
     "execution_count": 13,
     "metadata": {},
     "output_type": "execute_result"
    }
   ],
   "source": [
    "df_person.isnull().sum()"
   ]
  },
  {
   "cell_type": "markdown",
   "id": "ce2c63af-3b3c-4b4a-a849-3705e44fd923",
   "metadata": {},
   "source": [
    "Avaliando as colunas MiddleName e Suffix, vemos que elas fazem parte do nome completo do cliente, então aqui podemos contatenar todas as colunas que possuem relação com o nome em uma única coluna com o CompleteName"
   ]
  },
  {
   "cell_type": "code",
   "execution_count": 14,
   "id": "0ea1f3a5-08d9-4de7-a9a6-49a80b0d9d94",
   "metadata": {},
   "outputs": [],
   "source": [
    "# Antes temos que converter os valores NaN que estão nas colunas em uma string vazia\n",
    "df_person.MiddleName = df_person.MiddleName.fillna('')\n",
    "df_person.Suffix = df_person.Suffix.fillna('')"
   ]
  },
  {
   "cell_type": "code",
   "execution_count": 15,
   "id": "6fdfe5bf-bb8e-407e-b629-7b7273112176",
   "metadata": {},
   "outputs": [
    {
     "data": {
      "text/html": [
       "<div>\n",
       "<style scoped>\n",
       "    .dataframe tbody tr th:only-of-type {\n",
       "        vertical-align: middle;\n",
       "    }\n",
       "\n",
       "    .dataframe tbody tr th {\n",
       "        vertical-align: top;\n",
       "    }\n",
       "\n",
       "    .dataframe thead th {\n",
       "        text-align: right;\n",
       "    }\n",
       "</style>\n",
       "<table border=\"1\" class=\"dataframe\">\n",
       "  <thead>\n",
       "    <tr style=\"text-align: right;\">\n",
       "      <th></th>\n",
       "      <th>BusinessEntityID</th>\n",
       "      <th>PersonType</th>\n",
       "      <th>NameStyle</th>\n",
       "      <th>FirstName</th>\n",
       "      <th>MiddleName</th>\n",
       "      <th>LastName</th>\n",
       "      <th>Suffix</th>\n",
       "      <th>EmailPromotion</th>\n",
       "      <th>AdditionalContactInfo</th>\n",
       "      <th>Demographics</th>\n",
       "      <th>rowguid</th>\n",
       "      <th>ModifiedDate</th>\n",
       "    </tr>\n",
       "  </thead>\n",
       "  <tbody>\n",
       "    <tr>\n",
       "      <th>0</th>\n",
       "      <td>1</td>\n",
       "      <td>EM</td>\n",
       "      <td>0</td>\n",
       "      <td>Ken</td>\n",
       "      <td>J</td>\n",
       "      <td>Sánchez</td>\n",
       "      <td></td>\n",
       "      <td>0</td>\n",
       "      <td>NaN</td>\n",
       "      <td>&lt;IndividualSurvey xmlns=\"http://schemas.micros...</td>\n",
       "      <td>92C4279F-1207-48A3-8448-4636514EB7E2</td>\n",
       "      <td>2009-01-07 00:00:00.000</td>\n",
       "    </tr>\n",
       "    <tr>\n",
       "      <th>1</th>\n",
       "      <td>2</td>\n",
       "      <td>EM</td>\n",
       "      <td>0</td>\n",
       "      <td>Terri</td>\n",
       "      <td>Lee</td>\n",
       "      <td>Duffy</td>\n",
       "      <td></td>\n",
       "      <td>1</td>\n",
       "      <td>NaN</td>\n",
       "      <td>&lt;IndividualSurvey xmlns=\"http://schemas.micros...</td>\n",
       "      <td>D8763459-8AA8-47CC-AFF7-C9079AF79033</td>\n",
       "      <td>2008-01-24 00:00:00.000</td>\n",
       "    </tr>\n",
       "    <tr>\n",
       "      <th>2</th>\n",
       "      <td>3</td>\n",
       "      <td>EM</td>\n",
       "      <td>0</td>\n",
       "      <td>Roberto</td>\n",
       "      <td></td>\n",
       "      <td>Tamburello</td>\n",
       "      <td></td>\n",
       "      <td>0</td>\n",
       "      <td>NaN</td>\n",
       "      <td>&lt;IndividualSurvey xmlns=\"http://schemas.micros...</td>\n",
       "      <td>E1A2555E-0828-434B-A33B-6F38136A37DE</td>\n",
       "      <td>2007-11-04 00:00:00.000</td>\n",
       "    </tr>\n",
       "    <tr>\n",
       "      <th>3</th>\n",
       "      <td>4</td>\n",
       "      <td>EM</td>\n",
       "      <td>0</td>\n",
       "      <td>Rob</td>\n",
       "      <td></td>\n",
       "      <td>Walters</td>\n",
       "      <td></td>\n",
       "      <td>0</td>\n",
       "      <td>NaN</td>\n",
       "      <td>&lt;IndividualSurvey xmlns=\"http://schemas.micros...</td>\n",
       "      <td>F2D7CE06-38B3-4357-805B-F4B6B71C01FF</td>\n",
       "      <td>2007-11-28 00:00:00.000</td>\n",
       "    </tr>\n",
       "    <tr>\n",
       "      <th>4</th>\n",
       "      <td>5</td>\n",
       "      <td>EM</td>\n",
       "      <td>0</td>\n",
       "      <td>Gail</td>\n",
       "      <td>A</td>\n",
       "      <td>Erickson</td>\n",
       "      <td></td>\n",
       "      <td>0</td>\n",
       "      <td>NaN</td>\n",
       "      <td>&lt;IndividualSurvey xmlns=\"http://schemas.micros...</td>\n",
       "      <td>F3A3F6B4-AE3B-430C-A754-9F2231BA6FEF</td>\n",
       "      <td>2007-12-30 00:00:00.000</td>\n",
       "    </tr>\n",
       "  </tbody>\n",
       "</table>\n",
       "</div>"
      ],
      "text/plain": [
       "   BusinessEntityID PersonType  NameStyle FirstName MiddleName    LastName  \\\n",
       "0                 1         EM          0       Ken          J     Sánchez   \n",
       "1                 2         EM          0     Terri        Lee       Duffy   \n",
       "2                 3         EM          0   Roberto             Tamburello   \n",
       "3                 4         EM          0       Rob                Walters   \n",
       "4                 5         EM          0      Gail          A    Erickson   \n",
       "\n",
       "  Suffix  EmailPromotion AdditionalContactInfo  \\\n",
       "0                      0                   NaN   \n",
       "1                      1                   NaN   \n",
       "2                      0                   NaN   \n",
       "3                      0                   NaN   \n",
       "4                      0                   NaN   \n",
       "\n",
       "                                        Demographics  \\\n",
       "0  <IndividualSurvey xmlns=\"http://schemas.micros...   \n",
       "1  <IndividualSurvey xmlns=\"http://schemas.micros...   \n",
       "2  <IndividualSurvey xmlns=\"http://schemas.micros...   \n",
       "3  <IndividualSurvey xmlns=\"http://schemas.micros...   \n",
       "4  <IndividualSurvey xmlns=\"http://schemas.micros...   \n",
       "\n",
       "                                rowguid             ModifiedDate  \n",
       "0  92C4279F-1207-48A3-8448-4636514EB7E2  2009-01-07 00:00:00.000  \n",
       "1  D8763459-8AA8-47CC-AFF7-C9079AF79033  2008-01-24 00:00:00.000  \n",
       "2  E1A2555E-0828-434B-A33B-6F38136A37DE  2007-11-04 00:00:00.000  \n",
       "3  F2D7CE06-38B3-4357-805B-F4B6B71C01FF  2007-11-28 00:00:00.000  \n",
       "4  F3A3F6B4-AE3B-430C-A754-9F2231BA6FEF  2007-12-30 00:00:00.000  "
      ]
     },
     "execution_count": 15,
     "metadata": {},
     "output_type": "execute_result"
    }
   ],
   "source": [
    "df_person.head()"
   ]
  },
  {
   "cell_type": "code",
   "execution_count": 16,
   "id": "c9b1a80b-a402-40dc-9dfa-6d2a7a9f1f2a",
   "metadata": {},
   "outputs": [
    {
     "data": {
      "text/plain": [
       "BusinessEntityID             0\n",
       "PersonType                   0\n",
       "NameStyle                    0\n",
       "FirstName                    0\n",
       "MiddleName                   0\n",
       "LastName                     0\n",
       "Suffix                       0\n",
       "EmailPromotion               0\n",
       "AdditionalContactInfo    19962\n",
       "Demographics                 0\n",
       "rowguid                      0\n",
       "ModifiedDate                 0\n",
       "dtype: int64"
      ]
     },
     "execution_count": 16,
     "metadata": {},
     "output_type": "execute_result"
    }
   ],
   "source": [
    "df_person.isnull().sum()"
   ]
  },
  {
   "cell_type": "code",
   "execution_count": 17,
   "id": "699560e0-d493-41c2-8ee9-f41c8d65f8d2",
   "metadata": {},
   "outputs": [],
   "source": [
    "# Contatenando as colunas FirstName, MiddleName, LastName e Suffix para criar a coluna CompleteName\n",
    "df_person['CompleteName'] = df_person['FirstName'].map(str) + ' ' + df_person['MiddleName'].map(str) + ' ' + df_person['LastName'].map(str) + ' ' + df_person['Suffix'].map(str)   "
   ]
  },
  {
   "cell_type": "code",
   "execution_count": 18,
   "id": "216db7aa-3367-4f26-bc70-79563ef9584b",
   "metadata": {},
   "outputs": [],
   "source": [
    "# Dropando as colunas que não precisamos mais\n",
    "df_person = df_person.drop(['FirstName','MiddleName','LastName','Suffix'], axis = 1)"
   ]
  },
  {
   "cell_type": "code",
   "execution_count": 19,
   "id": "6a3f605c-8e12-473a-8b12-0c670d04f47a",
   "metadata": {},
   "outputs": [
    {
     "data": {
      "text/html": [
       "<div>\n",
       "<style scoped>\n",
       "    .dataframe tbody tr th:only-of-type {\n",
       "        vertical-align: middle;\n",
       "    }\n",
       "\n",
       "    .dataframe tbody tr th {\n",
       "        vertical-align: top;\n",
       "    }\n",
       "\n",
       "    .dataframe thead th {\n",
       "        text-align: right;\n",
       "    }\n",
       "</style>\n",
       "<table border=\"1\" class=\"dataframe\">\n",
       "  <thead>\n",
       "    <tr style=\"text-align: right;\">\n",
       "      <th></th>\n",
       "      <th>BusinessEntityID</th>\n",
       "      <th>PersonType</th>\n",
       "      <th>NameStyle</th>\n",
       "      <th>EmailPromotion</th>\n",
       "      <th>AdditionalContactInfo</th>\n",
       "      <th>Demographics</th>\n",
       "      <th>rowguid</th>\n",
       "      <th>ModifiedDate</th>\n",
       "      <th>CompleteName</th>\n",
       "    </tr>\n",
       "  </thead>\n",
       "  <tbody>\n",
       "    <tr>\n",
       "      <th>0</th>\n",
       "      <td>1</td>\n",
       "      <td>EM</td>\n",
       "      <td>0</td>\n",
       "      <td>0</td>\n",
       "      <td>NaN</td>\n",
       "      <td>&lt;IndividualSurvey xmlns=\"http://schemas.micros...</td>\n",
       "      <td>92C4279F-1207-48A3-8448-4636514EB7E2</td>\n",
       "      <td>2009-01-07 00:00:00.000</td>\n",
       "      <td>Ken J Sánchez</td>\n",
       "    </tr>\n",
       "    <tr>\n",
       "      <th>1</th>\n",
       "      <td>2</td>\n",
       "      <td>EM</td>\n",
       "      <td>0</td>\n",
       "      <td>1</td>\n",
       "      <td>NaN</td>\n",
       "      <td>&lt;IndividualSurvey xmlns=\"http://schemas.micros...</td>\n",
       "      <td>D8763459-8AA8-47CC-AFF7-C9079AF79033</td>\n",
       "      <td>2008-01-24 00:00:00.000</td>\n",
       "      <td>Terri Lee Duffy</td>\n",
       "    </tr>\n",
       "    <tr>\n",
       "      <th>2</th>\n",
       "      <td>3</td>\n",
       "      <td>EM</td>\n",
       "      <td>0</td>\n",
       "      <td>0</td>\n",
       "      <td>NaN</td>\n",
       "      <td>&lt;IndividualSurvey xmlns=\"http://schemas.micros...</td>\n",
       "      <td>E1A2555E-0828-434B-A33B-6F38136A37DE</td>\n",
       "      <td>2007-11-04 00:00:00.000</td>\n",
       "      <td>Roberto  Tamburello</td>\n",
       "    </tr>\n",
       "    <tr>\n",
       "      <th>3</th>\n",
       "      <td>4</td>\n",
       "      <td>EM</td>\n",
       "      <td>0</td>\n",
       "      <td>0</td>\n",
       "      <td>NaN</td>\n",
       "      <td>&lt;IndividualSurvey xmlns=\"http://schemas.micros...</td>\n",
       "      <td>F2D7CE06-38B3-4357-805B-F4B6B71C01FF</td>\n",
       "      <td>2007-11-28 00:00:00.000</td>\n",
       "      <td>Rob  Walters</td>\n",
       "    </tr>\n",
       "    <tr>\n",
       "      <th>4</th>\n",
       "      <td>5</td>\n",
       "      <td>EM</td>\n",
       "      <td>0</td>\n",
       "      <td>0</td>\n",
       "      <td>NaN</td>\n",
       "      <td>&lt;IndividualSurvey xmlns=\"http://schemas.micros...</td>\n",
       "      <td>F3A3F6B4-AE3B-430C-A754-9F2231BA6FEF</td>\n",
       "      <td>2007-12-30 00:00:00.000</td>\n",
       "      <td>Gail A Erickson</td>\n",
       "    </tr>\n",
       "  </tbody>\n",
       "</table>\n",
       "</div>"
      ],
      "text/plain": [
       "   BusinessEntityID PersonType  NameStyle  EmailPromotion  \\\n",
       "0                 1         EM          0               0   \n",
       "1                 2         EM          0               1   \n",
       "2                 3         EM          0               0   \n",
       "3                 4         EM          0               0   \n",
       "4                 5         EM          0               0   \n",
       "\n",
       "  AdditionalContactInfo                                       Demographics  \\\n",
       "0                   NaN  <IndividualSurvey xmlns=\"http://schemas.micros...   \n",
       "1                   NaN  <IndividualSurvey xmlns=\"http://schemas.micros...   \n",
       "2                   NaN  <IndividualSurvey xmlns=\"http://schemas.micros...   \n",
       "3                   NaN  <IndividualSurvey xmlns=\"http://schemas.micros...   \n",
       "4                   NaN  <IndividualSurvey xmlns=\"http://schemas.micros...   \n",
       "\n",
       "                                rowguid             ModifiedDate  \\\n",
       "0  92C4279F-1207-48A3-8448-4636514EB7E2  2009-01-07 00:00:00.000   \n",
       "1  D8763459-8AA8-47CC-AFF7-C9079AF79033  2008-01-24 00:00:00.000   \n",
       "2  E1A2555E-0828-434B-A33B-6F38136A37DE  2007-11-04 00:00:00.000   \n",
       "3  F2D7CE06-38B3-4357-805B-F4B6B71C01FF  2007-11-28 00:00:00.000   \n",
       "4  F3A3F6B4-AE3B-430C-A754-9F2231BA6FEF  2007-12-30 00:00:00.000   \n",
       "\n",
       "           CompleteName  \n",
       "0        Ken J Sánchez   \n",
       "1      Terri Lee Duffy   \n",
       "2  Roberto  Tamburello   \n",
       "3         Rob  Walters   \n",
       "4      Gail A Erickson   "
      ]
     },
     "execution_count": 19,
     "metadata": {},
     "output_type": "execute_result"
    }
   ],
   "source": [
    "df_person.head()"
   ]
  },
  {
   "cell_type": "markdown",
   "id": "ec0c32e6-8091-41aa-bdfe-b06f4f6aeeea",
   "metadata": {},
   "source": [
    "Temos também a coluna AdditionalContactInfo que só possuem 10 registros válidos, vamos tomar para esse caso que ela não é necessária devido ao problema de negócio que temos que responder, portanto ela será dropada"
   ]
  },
  {
   "cell_type": "code",
   "execution_count": 20,
   "id": "be72d4d8-0e7b-4986-8a81-84ce933e74e9",
   "metadata": {},
   "outputs": [],
   "source": [
    "# Dropando a coluna AdditionalContactInfo\n",
    "df_person = df_person.drop('AdditionalContactInfo',axis=1)"
   ]
  },
  {
   "cell_type": "markdown",
   "id": "9f8d0524-939f-4f8a-85b6-6c9da6b69bec",
   "metadata": {},
   "source": [
    "Ainda falta tratar a coluna ModifiedDate que não está com o formato de data"
   ]
  },
  {
   "cell_type": "code",
   "execution_count": 21,
   "id": "9089e081-8213-4313-9b23-2c113957bea0",
   "metadata": {},
   "outputs": [],
   "source": [
    "df_person['ModifiedDate']= pd.to_datetime(df_person['ModifiedDate'])"
   ]
  },
  {
   "cell_type": "code",
   "execution_count": 22,
   "id": "cf8bb205-614e-4354-ac35-af4a963d0d96",
   "metadata": {},
   "outputs": [
    {
     "data": {
      "text/plain": [
       "BusinessEntityID             int64\n",
       "PersonType                  object\n",
       "NameStyle                    int64\n",
       "EmailPromotion               int64\n",
       "Demographics                object\n",
       "rowguid                     object\n",
       "ModifiedDate        datetime64[ns]\n",
       "CompleteName                object\n",
       "dtype: object"
      ]
     },
     "execution_count": 22,
     "metadata": {},
     "output_type": "execute_result"
    }
   ],
   "source": [
    "# Confirmando se a coluna recebeu tipo correto\n",
    "df_person.dtypes"
   ]
  },
  {
   "cell_type": "markdown",
   "id": "24754426-e437-4e7d-8697-0ea24a84f09a",
   "metadata": {},
   "source": [
    "Por fim, já temos todas as nossas colunas tratadas, então iremos salvar o DF em um arquivo parquet que é otimizado para o modelo analítico"
   ]
  },
  {
   "cell_type": "code",
   "execution_count": 23,
   "id": "4cb3389e-8889-45db-a734-a85090790cb5",
   "metadata": {},
   "outputs": [],
   "source": [
    "df_person.to_parquet('gs://bike-factory-datalake/02.REFINED/person.parquet')"
   ]
  }
 ],
 "metadata": {
  "kernelspec": {
   "display_name": "Python 3",
   "language": "python",
   "name": "python3"
  },
  "language_info": {
   "codemirror_mode": {
    "name": "ipython",
    "version": 3
   },
   "file_extension": ".py",
   "mimetype": "text/x-python",
   "name": "python",
   "nbconvert_exporter": "python",
   "pygments_lexer": "ipython3",
   "version": "3.8.12"
  }
 },
 "nbformat": 4,
 "nbformat_minor": 5
}