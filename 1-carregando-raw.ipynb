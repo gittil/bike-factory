{
 "cells": [
  {
   "cell_type": "code",
   "execution_count": 8,
   "metadata": {},
   "outputs": [],
   "source": [
    "# importando o conector da GCP\n",
    "import modules.gcp_conector as gcp"
   ]
  },
  {
   "cell_type": "code",
   "execution_count": 24,
   "metadata": {},
   "outputs": [],
   "source": [
    "# criando as variaveis com os endereços dos aquivos que iremos carregar\n",
    "person_landing_area = \"D:\\workspace\\landing-area\\Person.Person.csv\"\n",
    "product_landing_area = \"D:\\workspace\\landing-area\\Production.Product.csv\"\n",
    "customer_landing_area = \"D:\\workspace\\landing-area\\Sales.Customer.csv\"\n",
    "sales_detail_landing_area = \"D:\\workspace\\landing-area\\Sales.SalesOrderDetail.csv\"\n",
    "sales_order_landing_area = \"D:\\workspace\\landing-area\\Sales.SalesOrderHeader.csv\"\n",
    "special_offer_landing_area = \"D:\\workspace\\landing-area\\Sales.SpecialOfferProduct.csv\"\n"
   ]
  },
  {
   "cell_type": "code",
   "execution_count": 29,
   "metadata": {},
   "outputs": [
    {
     "name": "stdout",
     "output_type": "stream",
     "text": [
      "File D:\\workspace\\landing-area\\Person.Person.csv uploaded to 01.RAW/Person.Person.csv.\n",
      "File D:\\workspace\\landing-area\\Production.Product.csv uploaded to 01.RAW/Production.Product.csv.\n",
      "File D:\\workspace\\landing-area\\Sales.Customer.csv uploaded to 01.RAW/Sales.Customer.csv.\n",
      "File D:\\workspace\\landing-area\\Sales.SalesOrderDetail.csv uploaded to 01.RAW/Sales.SalesOrderDetail.csv.\n",
      "File D:\\workspace\\landing-area\\Sales.SalesOrderHeader.csv uploaded to 01.RAW/Sales.SalesOrderHeader.csv.\n",
      "File D:\\workspace\\landing-area\\Sales.SpecialOfferProduct.csv uploaded to 01.RAW/Sales.SpecialOfferProduct.csv.\n"
     ]
    }
   ],
   "source": [
    "# chamando o método upload_blob para subir os arquivos do ambiente local para a pasta RAW do Bucket\n",
    "gcp.upload_blob(\"bike-factory-datalake\",person_landing_area,\"01.RAW/Person.Person.csv\")\n",
    "gcp.upload_blob(\"bike-factory-datalake\",product_landing_area,\"01.RAW/Production.Product.csv\")\n",
    "gcp.upload_blob(\"bike-factory-datalake\",customer_landing_area,\"01.RAW/Sales.Customer.csv\")\n",
    "gcp.upload_blob(\"bike-factory-datalake\",sales_detail_landing_area,\"01.RAW/Sales.SalesOrderDetail.csv\")\n",
    "gcp.upload_blob(\"bike-factory-datalake\",sales_order_landing_area,\"01.RAW/Sales.SalesOrderHeader.csv\")\n",
    "gcp.upload_blob(\"bike-factory-datalake\",special_offer_landing_area,\"01.RAW/Sales.SpecialOfferProduct.csv\")\n"
   ]
  }
 ],
 "metadata": {
  "interpreter": {
   "hash": "916dbcbb3f70747c44a77c7bcd40155683ae19c65e1c03b4aa3499c5328201f1"
  },
  "kernelspec": {
   "display_name": "Python 3.8.10 64-bit",
   "language": "python",
   "name": "python3"
  },
  "language_info": {
   "codemirror_mode": {
    "name": "ipython",
    "version": 3
   },
   "file_extension": ".py",
   "mimetype": "text/x-python",
   "name": "python",
   "nbconvert_exporter": "python",
   "pygments_lexer": "ipython3",
   "version": "3.10.1"
  },
  "orig_nbformat": 4
 },
 "nbformat": 4,
 "nbformat_minor": 2
}
